{
 "cells": [
  {
   "cell_type": "markdown",
   "id": "3ca043ba",
   "metadata": {},
   "source": [
    "# **DATA CLEANING**"
   ]
  },
  {
   "cell_type": "code",
   "execution_count": 206,
   "id": "6941c740",
   "metadata": {},
   "outputs": [],
   "source": [
    "import numpy as np\n",
    "import pandas as pd\n",
    "import matplotlib.pyplot as plt\n",
    "import seaborn as sns\n",
    "\n",
    "import utils.utils as utils\n",
    "\n",
    "# !pip freeze > ../requirements.txt"
   ]
  },
  {
   "cell_type": "code",
   "execution_count": 207,
   "id": "60ca983f",
   "metadata": {},
   "outputs": [],
   "source": [
    "data = pd.read_csv(r'..\\data\\backup\\bureau_balance.csv')"
   ]
  },
  {
   "cell_type": "markdown",
   "id": "2eecc62a",
   "metadata": {},
   "source": [
    "## **Data overview**"
   ]
  },
  {
   "cell_type": "code",
   "execution_count": 208,
   "id": "07b7cf63",
   "metadata": {},
   "outputs": [],
   "source": [
    "# print(data.shape)\n",
    "# # (27299925, 3)\n",
    "\n",
    "# print(data[:0])\n",
    "# # Empty DataFrame\n",
    "# # Columns: [SK_ID_BUREAU, MONTHS_BALANCE, STATUS]\n",
    "# # Index: []\n",
    "\n",
    "# data.info()\n",
    "# # <class 'pandas.core.frame.DataFrame'>\n",
    "# # RangeIndex: 27299925 entries, 0 to 27299924\n",
    "# # Data columns (total 3 columns):\n",
    "# #  #   Column          Dtype \n",
    "# # ---  ------          ----- \n",
    "# #  0   SK_ID_BUREAU    int64 \n",
    "# #  1   MONTHS_BALANCE  int64 \n",
    "# #  2   STATUS          object\n",
    "# # dtypes: int64(2), object(1)\n",
    "# # memory usage: 624.8+ MB"
   ]
  },
  {
   "cell_type": "code",
   "execution_count": 209,
   "id": "7c08728e",
   "metadata": {},
   "outputs": [
    {
     "data": {
      "text/html": [
       "<div>\n",
       "<style scoped>\n",
       "    .dataframe tbody tr th:only-of-type {\n",
       "        vertical-align: middle;\n",
       "    }\n",
       "\n",
       "    .dataframe tbody tr th {\n",
       "        vertical-align: top;\n",
       "    }\n",
       "\n",
       "    .dataframe thead th {\n",
       "        text-align: right;\n",
       "    }\n",
       "</style>\n",
       "<table border=\"1\" class=\"dataframe\">\n",
       "  <thead>\n",
       "    <tr style=\"text-align: right;\">\n",
       "      <th></th>\n",
       "      <th>Feature</th>\n",
       "      <th>Missing Value Percentage</th>\n",
       "    </tr>\n",
       "  </thead>\n",
       "  <tbody>\n",
       "    <tr>\n",
       "      <th>0</th>\n",
       "      <td>SK_ID_BUREAU</td>\n",
       "      <td>0.0</td>\n",
       "    </tr>\n",
       "    <tr>\n",
       "      <th>1</th>\n",
       "      <td>MONTHS_BALANCE</td>\n",
       "      <td>0.0</td>\n",
       "    </tr>\n",
       "    <tr>\n",
       "      <th>2</th>\n",
       "      <td>STATUS</td>\n",
       "      <td>0.0</td>\n",
       "    </tr>\n",
       "  </tbody>\n",
       "</table>\n",
       "</div>"
      ],
      "text/plain": [
       "          Feature  Missing Value Percentage\n",
       "0    SK_ID_BUREAU                       0.0\n",
       "1  MONTHS_BALANCE                       0.0\n",
       "2          STATUS                       0.0"
      ]
     },
     "execution_count": 209,
     "metadata": {},
     "output_type": "execute_result"
    }
   ],
   "source": [
    "utils._calculate_missing_percentage(data)"
   ]
  },
  {
   "cell_type": "code",
   "execution_count": 210,
   "id": "020772bf",
   "metadata": {},
   "outputs": [],
   "source": [
    "# data.MONTHS_BALANCE.unique()\n",
    "# # array([  0,  -1,  -2,  -3,  -4,  -5,  -6,  -7,  -8,  -9, -10, -11, -12,\n",
    "# #        -13, -14, -15, -16, -17, -18, -19, -20, -21, -22, -23, -24, -25,\n",
    "# #        -26, -27, -28, -29, -30, -31, -32, -33, -34, -35, -36, -37, -38,\n",
    "# #        -39, -40, -41, -42, -43, -44, -45, -46, -47, -48, -49, -50, -51,\n",
    "# #        -52, -53, -54, -55, -56, -57, -58, -59, -60, -61, -62, -63, -64,\n",
    "# #        -65, -66, -67, -68, -69, -70, -71, -72, -73, -74, -75, -76, -77,\n",
    "# #        -78, -79, -80, -81, -82, -83, -84, -85, -86, -87, -88, -89, -90,\n",
    "# #        -91, -92, -93, -94, -95, -96])\n",
    "\n",
    "# data.STATUS.unique()\n",
    "# # array(['C', '0', 'X', '1', '2', '3', '5', '4'], dtype=object)"
   ]
  },
  {
   "cell_type": "markdown",
   "id": "ed34fd3d",
   "metadata": {},
   "source": [
    "**MONTHS_BALANCE**:\n",
    "- Gonna keep only nearest 60m records (5 years of credit history) *(assumes I only have those)*\n",
    "\n",
    "**STATUS**:\n",
    "- C means closed.\n",
    "- X means status unknown.\n",
    "- 0 means no DPD.\n",
    "- 1 means DPD 1-30.\n",
    "- 2 means DPD 31-60.\n",
    "- 3 means DPD 61-90.\n",
    "- 4 means DPD 91-120.\n",
    "- 5 means DPD 120+ or sold or written off."
   ]
  },
  {
   "cell_type": "markdown",
   "id": "54d54f5e",
   "metadata": {},
   "source": [
    "## **Tweaking things**"
   ]
  },
  {
   "cell_type": "code",
   "execution_count": null,
   "id": "47e9c884",
   "metadata": {},
   "outputs": [],
   "source": [
    "# Remove obs with >60ms MONTHS_BALANCE cuz I like it that way\n",
    "data = data[data['MONTHS_BALANCE']>-60]\n",
    "data['MONTHS_BALANCE'] = data['MONTHS_BALANCE'] + 60"
   ]
  },
  {
   "cell_type": "code",
   "execution_count": 213,
   "id": "920b4584",
   "metadata": {},
   "outputs": [],
   "source": [
    "# Remove obs with closed (C) and unknown (X) status in all snapshot months\n",
    "mask = data.groupby('SK_ID_BUREAU')['STATUS'].transform(lambda x: not all(x.isin(['C', 'X'])))\n",
    "data = data[mask]"
   ]
  },
  {
   "cell_type": "code",
   "execution_count": 214,
   "id": "fbb5baaa",
   "metadata": {},
   "outputs": [],
   "source": [
    "# Humanizer\n",
    "def recode_status(val):\n",
    "    if val in ['C']: return 'C'\n",
    "    if val in ['X']: return 'X'\n",
    "    if val in ['0']: return 'DPD0'\n",
    "    if val in ['1']: return 'DPD1-30'\n",
    "    if val in ['2']: return 'DPD31-60'\n",
    "    if val in ['3']: return 'DPD61-90'\n",
    "    if val in ['4']: return 'DPD91-120'\n",
    "    if val in ['5']: return 'DPD120+'\n",
    "    return val\n",
    "data['STATUS'] = data['STATUS'].apply(recode_status)\n",
    "data['STATUS'] = data['STATUS'].astype('category')\n",
    "\n",
    "# data.STATUS.unique()\n",
    "# # ['C', 'DPD0', 'X', 'DPD1-30', 'DPD31-60', 'DPD91-120', 'DPD61-90', 'DPD120+']\n",
    "# # Categories (8, object): ['C', 'DPD0', 'DPD1-30', 'DPD120+', 'DPD31-60', 'DPD61-90', 'DPD91-120', 'X']"
   ]
  },
  {
   "cell_type": "code",
   "execution_count": 215,
   "id": "6a6ba767",
   "metadata": {},
   "outputs": [],
   "source": [
    "data['STATUS_NEXT'] = (\n",
    "\tdata.sort_values(['MONTHS_BALANCE'], ascending=True)\n",
    "\t\t.groupby('SK_ID_BUREAU')['STATUS']\n",
    "\t\t.shift(-1)\n",
    ")\n",
    "data['STATUS_NEXT'] = data['STATUS_NEXT'].astype('category')"
   ]
  },
  {
   "cell_type": "code",
   "execution_count": 216,
   "id": "46cfba75",
   "metadata": {},
   "outputs": [],
   "source": [
    "# Some obs show unusual behavior—specifically, accounts that are already closed but still show DPD in the following month.\n",
    "# This seems illogical, at least to me. Since the number of such cases is small, I drop them entirely, should be save for further observing.\n",
    "close_mths_1 = data[(data['STATUS'] == 'C') & (~data['STATUS_NEXT'].isin(['C', None]))]['SK_ID_BUREAU']\n",
    "close_mths_1 = close_mths_1[close_mths_1.duplicated(keep=False)].unique()\n",
    "# # array([6547545, 6546715, 6388668, 6202448, 5562970, 5764518])\n",
    "data = data[~data['SK_ID_BUREAU'].isin(close_mths_1)]"
   ]
  },
  {
   "cell_type": "markdown",
   "id": "3c534261",
   "metadata": {},
   "source": [
    "## **Data Rollrate**"
   ]
  },
  {
   "cell_type": "markdown",
   "id": "4346b297",
   "metadata": {},
   "source": [
    "As with analysis of roll-rate, I filled all closed snapshot obs with the nearest available DPD value."
   ]
  },
  {
   "cell_type": "code",
   "execution_count": 220,
   "id": "4cbc3c74",
   "metadata": {},
   "outputs": [],
   "source": [
    "data_rollrate = data.copy()"
   ]
  },
  {
   "cell_type": "code",
   "execution_count": null,
   "id": "239696cb",
   "metadata": {},
   "outputs": [
    {
     "name": "stderr",
     "output_type": "stream",
     "text": [
      "C:\\Users\\CTV_HUYNQ1\\AppData\\Local\\Temp\\ipykernel_7360\\1980782985.py:1: FutureWarning: The behavior of Series.replace (and DataFrame.replace) with CategoricalDtype is deprecated. In a future version, replace will only be used for cases that preserve the categories. To change the categories, use ser.cat.rename_categories instead.\n",
      "  data_rollrate['STATUS'] = data_rollrate['STATUS'].replace(['C', 'X'], np.nan)\n"
     ]
    }
   ],
   "source": [
    "data_rollrate['STATUS'] = data_rollrate['STATUS'].replace(['C', 'X'], np.nan)\n",
    "data_rollrate = data_rollrate.sort_values(['SK_ID_BUREAU', 'MONTHS_BALANCE'], ascending=True)\n",
    "data_rollrate['STATUS'] = data_rollrate.groupby('SK_ID_BUREAU')['STATUS'].ffill()"
   ]
  },
  {
   "cell_type": "code",
   "execution_count": null,
   "id": "2c3d4a5b",
   "metadata": {},
   "outputs": [],
   "source": [
    "data_rollrate = data_rollrate.drop(['STATUS_NEXT'], axis=1)\n",
    "data_rollrate.to_csv(r'..\\data\\data_rollrate.csv', index=False)"
   ]
  },
  {
   "cell_type": "markdown",
   "id": "930bf90e",
   "metadata": {},
   "source": [
    "## **Data Vintage**"
   ]
  },
  {
   "cell_type": "code",
   "execution_count": 265,
   "id": "a831d518",
   "metadata": {},
   "outputs": [],
   "source": [
    "data_vintage = data.copy().drop(['STATUS_NEXT'], axis=1)\n",
    "data_vintage.to_csv(r'..\\data\\data_vintage.csv', index=False)"
   ]
  }
 ],
 "metadata": {
  "kernelspec": {
   "display_name": "venv",
   "language": "python",
   "name": "python3"
  },
  "language_info": {
   "codemirror_mode": {
    "name": "ipython",
    "version": 3
   },
   "file_extension": ".py",
   "mimetype": "text/x-python",
   "name": "python",
   "nbconvert_exporter": "python",
   "pygments_lexer": "ipython3",
   "version": "3.11.1"
  }
 },
 "nbformat": 4,
 "nbformat_minor": 5
}
